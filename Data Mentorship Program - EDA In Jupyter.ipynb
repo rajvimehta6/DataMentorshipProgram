{
 "cells": [
  {
   "cell_type": "code",
   "execution_count": 3,
   "id": "04c3a32e",
   "metadata": {},
   "outputs": [],
   "source": [
    "import pandas as pd\n",
    "import numpy as np\n",
    "import seaborn as sns\n",
    "import matplotlib.pyplot as plt\n",
    "%matplotlib inline"
   ]
  },
  {
   "cell_type": "code",
   "execution_count": 7,
   "id": "bec38c70",
   "metadata": {},
   "outputs": [],
   "source": [
    "#read the dataset\n",
    "\n",
    "data = pd.read_csv(\"US County Coronavirus.csv\", parse_dates=['date'])"
   ]
  },
  {
   "cell_type": "code",
   "execution_count": 8,
   "id": "53a095ad",
   "metadata": {},
   "outputs": [
    {
     "name": "stdout",
     "output_type": "stream",
     "text": [
      "<class 'pandas.core.frame.DataFrame'>\n",
      "RangeIndex: 30843 entries, 0 to 30842\n",
      "Data columns (total 6 columns):\n",
      " #   Column  Non-Null Count  Dtype         \n",
      "---  ------  --------------  -----         \n",
      " 0   date    30843 non-null  datetime64[ns]\n",
      " 1   county  30843 non-null  object        \n",
      " 2   state   30843 non-null  object        \n",
      " 3   fips    30388 non-null  float64       \n",
      " 4   cases   30843 non-null  int64         \n",
      " 5   deaths  30843 non-null  int64         \n",
      "dtypes: datetime64[ns](1), float64(1), int64(2), object(2)\n",
      "memory usage: 1.4+ MB\n"
     ]
    }
   ],
   "source": [
    "data.info()"
   ]
  },
  {
   "cell_type": "code",
   "execution_count": 13,
   "id": "1499c415",
   "metadata": {},
   "outputs": [],
   "source": [
    "data2 = {'fips' : 'str'}"
   ]
  },
  {
   "cell_type": "code",
   "execution_count": 14,
   "id": "e0fbfe92",
   "metadata": {},
   "outputs": [],
   "source": [
    "data = data.astype(data2)"
   ]
  },
  {
   "cell_type": "code",
   "execution_count": 15,
   "id": "7b24dcb0",
   "metadata": {},
   "outputs": [
    {
     "name": "stdout",
     "output_type": "stream",
     "text": [
      "<class 'pandas.core.frame.DataFrame'>\n",
      "RangeIndex: 30843 entries, 0 to 30842\n",
      "Data columns (total 6 columns):\n",
      " #   Column  Non-Null Count  Dtype         \n",
      "---  ------  --------------  -----         \n",
      " 0   date    30843 non-null  datetime64[ns]\n",
      " 1   county  30843 non-null  object        \n",
      " 2   state   30843 non-null  object        \n",
      " 3   fips    30843 non-null  object        \n",
      " 4   cases   30843 non-null  int64         \n",
      " 5   deaths  30843 non-null  int64         \n",
      "dtypes: datetime64[ns](1), int64(2), object(3)\n",
      "memory usage: 1.4+ MB\n"
     ]
    }
   ],
   "source": [
    "data.info()"
   ]
  },
  {
   "cell_type": "code",
   "execution_count": 16,
   "id": "462b7a0a",
   "metadata": {},
   "outputs": [],
   "source": [
    "data.drop('fips',axis=1, inplace=True)"
   ]
  },
  {
   "cell_type": "code",
   "execution_count": 19,
   "id": "b7f8bb85",
   "metadata": {},
   "outputs": [
    {
     "data": {
      "text/html": [
       "<div>\n",
       "<style scoped>\n",
       "    .dataframe tbody tr th:only-of-type {\n",
       "        vertical-align: middle;\n",
       "    }\n",
       "\n",
       "    .dataframe tbody tr th {\n",
       "        vertical-align: top;\n",
       "    }\n",
       "\n",
       "    .dataframe thead th {\n",
       "        text-align: right;\n",
       "    }\n",
       "</style>\n",
       "<table border=\"1\" class=\"dataframe\">\n",
       "  <thead>\n",
       "    <tr style=\"text-align: right;\">\n",
       "      <th></th>\n",
       "      <th>date</th>\n",
       "      <th>county</th>\n",
       "      <th>state</th>\n",
       "      <th>cases</th>\n",
       "      <th>deaths</th>\n",
       "    </tr>\n",
       "  </thead>\n",
       "  <tbody>\n",
       "    <tr>\n",
       "      <th>0</th>\n",
       "      <td>2020-01-21</td>\n",
       "      <td>Snohomish</td>\n",
       "      <td>Washington</td>\n",
       "      <td>1</td>\n",
       "      <td>0</td>\n",
       "    </tr>\n",
       "    <tr>\n",
       "      <th>1</th>\n",
       "      <td>2020-01-22</td>\n",
       "      <td>Snohomish</td>\n",
       "      <td>Washington</td>\n",
       "      <td>1</td>\n",
       "      <td>0</td>\n",
       "    </tr>\n",
       "    <tr>\n",
       "      <th>2</th>\n",
       "      <td>2020-01-23</td>\n",
       "      <td>Snohomish</td>\n",
       "      <td>Washington</td>\n",
       "      <td>1</td>\n",
       "      <td>0</td>\n",
       "    </tr>\n",
       "    <tr>\n",
       "      <th>3</th>\n",
       "      <td>2020-01-24</td>\n",
       "      <td>Cook</td>\n",
       "      <td>Illinois</td>\n",
       "      <td>1</td>\n",
       "      <td>0</td>\n",
       "    </tr>\n",
       "    <tr>\n",
       "      <th>4</th>\n",
       "      <td>2020-01-24</td>\n",
       "      <td>Snohomish</td>\n",
       "      <td>Washington</td>\n",
       "      <td>1</td>\n",
       "      <td>0</td>\n",
       "    </tr>\n",
       "    <tr>\n",
       "      <th>...</th>\n",
       "      <td>...</td>\n",
       "      <td>...</td>\n",
       "      <td>...</td>\n",
       "      <td>...</td>\n",
       "      <td>...</td>\n",
       "    </tr>\n",
       "    <tr>\n",
       "      <th>30838</th>\n",
       "      <td>2020-04-03</td>\n",
       "      <td>Sublette</td>\n",
       "      <td>Wyoming</td>\n",
       "      <td>1</td>\n",
       "      <td>0</td>\n",
       "    </tr>\n",
       "    <tr>\n",
       "      <th>30839</th>\n",
       "      <td>2020-04-03</td>\n",
       "      <td>Sweetwater</td>\n",
       "      <td>Wyoming</td>\n",
       "      <td>3</td>\n",
       "      <td>0</td>\n",
       "    </tr>\n",
       "    <tr>\n",
       "      <th>30840</th>\n",
       "      <td>2020-04-03</td>\n",
       "      <td>Teton</td>\n",
       "      <td>Wyoming</td>\n",
       "      <td>32</td>\n",
       "      <td>0</td>\n",
       "    </tr>\n",
       "    <tr>\n",
       "      <th>30841</th>\n",
       "      <td>2020-04-03</td>\n",
       "      <td>Uinta</td>\n",
       "      <td>Wyoming</td>\n",
       "      <td>1</td>\n",
       "      <td>0</td>\n",
       "    </tr>\n",
       "    <tr>\n",
       "      <th>30842</th>\n",
       "      <td>2020-04-03</td>\n",
       "      <td>Washakie</td>\n",
       "      <td>Wyoming</td>\n",
       "      <td>2</td>\n",
       "      <td>0</td>\n",
       "    </tr>\n",
       "  </tbody>\n",
       "</table>\n",
       "<p>30843 rows × 5 columns</p>\n",
       "</div>"
      ],
      "text/plain": [
       "            date      county       state  cases  deaths\n",
       "0     2020-01-21   Snohomish  Washington      1       0\n",
       "1     2020-01-22   Snohomish  Washington      1       0\n",
       "2     2020-01-23   Snohomish  Washington      1       0\n",
       "3     2020-01-24        Cook    Illinois      1       0\n",
       "4     2020-01-24   Snohomish  Washington      1       0\n",
       "...          ...         ...         ...    ...     ...\n",
       "30838 2020-04-03    Sublette     Wyoming      1       0\n",
       "30839 2020-04-03  Sweetwater     Wyoming      3       0\n",
       "30840 2020-04-03       Teton     Wyoming     32       0\n",
       "30841 2020-04-03       Uinta     Wyoming      1       0\n",
       "30842 2020-04-03    Washakie     Wyoming      2       0\n",
       "\n",
       "[30843 rows x 5 columns]"
      ]
     },
     "execution_count": 19,
     "metadata": {},
     "output_type": "execute_result"
    }
   ],
   "source": [
    "data"
   ]
  },
  {
   "cell_type": "code",
   "execution_count": 23,
   "id": "64d79c4c",
   "metadata": {},
   "outputs": [
    {
     "data": {
      "text/plain": [
       "(30843, 5)"
      ]
     },
     "execution_count": 23,
     "metadata": {},
     "output_type": "execute_result"
    }
   ],
   "source": [
    "##Understanding how large the dataset it\n",
    "\n",
    "data.shape"
   ]
  },
  {
   "cell_type": "code",
   "execution_count": 42,
   "id": "0859ded6",
   "metadata": {},
   "outputs": [
    {
     "data": {
      "image/png": "[encoded data removed]",
      "text/plain": [
       "<Figure size 432x288 with 1 Axes>"
      ]
     },
     "metadata": {
      "needs_background": "light"
     },
     "output_type": "display_data"
    }
   ],
   "source": [
    "#CasesByMonth\n",
    "\n",
    "data['month'] = pd.DatetimeIndex(data['date']).month\n",
    "data.head()\n",
    "\n",
    "casebymonth = data.groupby('month').size()\n",
    "plotbymonth = casebymonth.plot(title = 'Case by month')"
   ]
  },
  {
   "cell_type": "code",
   "execution_count": 45,
   "id": "db78b252",
   "metadata": {},
   "outputs": [
    {
     "data": {
      "text/plain": [
       "Text(0, 0.5, 'cases')"
      ]
     },
     "execution_count": 45,
     "metadata": {},
     "output_type": "execute_result"
    },
    {
     "data": {
      "image/png": "[encoded data removed]",
      "text/plain": [
       "<Figure size 432x288 with 1 Axes>"
      ]
     },
     "metadata": {
      "needs_background": "light"
     },
     "output_type": "display_data"
    }
   ],
   "source": [
    "#CasesByDay\n",
    "\n",
    "data['Day'] = pd.DatetimeIndex(data['date']).day\n",
    "data.head()\n",
    "\n",
    "casebyday = data.groupby('Day').size()\n",
    "plotbyday = casebyday.plot(title = 'Case by day')\n",
    "plotbyday.set_xlabel('Day')\n",
    "plotbyday.set_ylabel('cases')"
   ]
  },
  {
   "cell_type": "code",
   "execution_count": 47,
   "id": "6207f1b1",
   "metadata": {},
   "outputs": [
    {
     "data": {
      "text/plain": [
       "Day\n",
       "1     2265\n",
       "2     2329\n",
       "3     2400\n",
       "4       47\n",
       "5       58\n",
       "6       83\n",
       "7      104\n",
       "8      122\n",
       "9      141\n",
       "10     175\n",
       "11     214\n",
       "12     266\n",
       "13     326\n",
       "14     386\n",
       "15     440\n",
       "16     487\n",
       "17     558\n",
       "18     652\n",
       "19     778\n",
       "20     929\n",
       "21    1049\n",
       "22    1153\n",
       "23    1242\n",
       "24    1376\n",
       "25    1558\n",
       "26    1694\n",
       "27    1815\n",
       "28    1922\n",
       "29    2010\n",
       "30    2091\n",
       "31    2173\n",
       "dtype: int64"
      ]
     },
     "execution_count": 47,
     "metadata": {},
     "output_type": "execute_result"
    }
   ],
   "source": [
    "casebyday"
   ]
  },
  {
   "cell_type": "code",
   "execution_count": null,
   "id": "42850422",
   "metadata": {},
   "outputs": [],
   "source": []
  }
 ],
 "metadata": {
  "kernelspec": {
   "display_name": "Python 3 (ipykernel)",
   "language": "python",
   "name": "python3"
  },
  "language_info": {
   "codemirror_mode": {
    "name": "ipython",
    "version": 3
   },
   "file_extension": ".py",
   "mimetype": "text/x-python",
   "name": "python",
   "nbconvert_exporter": "python",
   "pygments_lexer": "ipython3",
   "version": "3.9.12"
  }
 },
 "nbformat": 4,
 "nbformat_minor": 5
}
